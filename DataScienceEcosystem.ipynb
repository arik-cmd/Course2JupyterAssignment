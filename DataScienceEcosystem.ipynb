{
 "cells": [
  {
   "cell_type": "markdown",
   "id": "cc8c4c06-257c-4250-aa31-5bd231a837e0",
   "metadata": {},
   "source": [
    "# Data Science Tools and Ecosystem"
   ]
  },
  {
   "cell_type": "markdown",
   "id": "1e4a505b-e93c-4b80-a6be-c9817fb7ebcf",
   "metadata": {},
   "source": [
    "In this notebook, Data Science Tools and Ecosystem are summarized."
   ]
  },
  {
   "cell_type": "markdown",
   "id": "b592cb09-e56b-4804-96e3-f80405a28346",
   "metadata": {},
   "source": [
    "# ** Objectives: **"
   ]
  },
  {
   "cell_type": "markdown",
   "id": "3afadd8a-e4e9-4f23-8f13-eed34350e092",
   "metadata": {},
   "source": [
    "- List popular languages for Data Science"
   ]
  },
  {
   "cell_type": "markdown",
   "id": "6f30a520-3bb3-4152-be6e-20ef6bd948b8",
   "metadata": {},
   "source": [
    "- List commonly used libraries for Data Science"
   ]
  },
  {
   "cell_type": "markdown",
   "id": "06558b3e-62de-4fce-84b7-b4c1e998fbcb",
   "metadata": {},
   "source": [
    "- Create a table of three open source development environment"
   ]
  },
  {
   "cell_type": "markdown",
   "id": "8c513004-9159-46c8-ab96-95d2c954a322",
   "metadata": {},
   "source": [
    "- Write a code for simple arithmetic operations and produce its output"
   ]
  },
  {
   "cell_type": "markdown",
   "id": "b0ac368d-22a0-4145-b007-1b267a43d668",
   "metadata": {},
   "source": [
    "Some of the popular languages that Data Scientists use are:"
   ]
  },
  {
   "cell_type": "markdown",
   "id": "bee22b11-7cfb-4021-85bb-0cad438e0bc2",
   "metadata": {},
   "source": [
    "1. Python"
   ]
  },
  {
   "cell_type": "markdown",
   "id": "38fc418a-25e6-4a96-8bb1-fb9df949f955",
   "metadata": {},
   "source": [
    "2. R"
   ]
  },
  {
   "cell_type": "markdown",
   "id": "5a9f4293-1b53-4260-bb30-a9e490f04915",
   "metadata": {},
   "source": [
    "3. SQL"
   ]
  },
  {
   "cell_type": "markdown",
   "id": "bfcb42d7-ec73-493d-b711-b96ec2774829",
   "metadata": {},
   "source": [
    "4. Julia"
   ]
  },
  {
   "cell_type": "markdown",
   "id": "7f0502ec-d441-4e0e-97d9-403d74b45626",
   "metadata": {},
   "source": [
    "5. C++"
   ]
  },
  {
   "cell_type": "code",
   "execution_count": null,
   "id": "b262d36d-b530-4142-9680-d7f741e181b4",
   "metadata": {},
   "outputs": [],
   "source": [
    "Some of the commonly used libraries used by Data Scientists include:"
   ]
  },
  {
   "cell_type": "markdown",
   "id": "9cd9455a-dddd-46cc-872d-25fadfb0c86c",
   "metadata": {},
   "source": [
    "1. numPy"
   ]
  },
  {
   "cell_type": "markdown",
   "id": "f73af2ae-7b95-4ce7-ad8f-cc077e5b833a",
   "metadata": {},
   "source": [
    "2. Pandas"
   ]
  },
  {
   "cell_type": "markdown",
   "id": "d5131324-6782-44ad-886a-ab32955f7627",
   "metadata": {},
   "source": [
    "3. ggplot2"
   ]
  },
  {
   "cell_type": "markdown",
   "id": "6afc3ec0-f208-4139-a124-9180ea534329",
   "metadata": {},
   "source": [
    "4. TensorFlow"
   ]
  },
  {
   "cell_type": "markdown",
   "id": "9251863a-fb7c-4b32-afc8-bb8566caee9c",
   "metadata": {},
   "source": [
    "5. GGally"
   ]
  },
  {
   "cell_type": "markdown",
   "id": "8636d480-25c8-4997-b3b8-b1b4fb7520be",
   "metadata": {},
   "source": [
    "| Data Science Tools |"
   ]
  },
  {
   "cell_type": "markdown",
   "id": "a48756e4-a819-429d-ad9d-ea196d981847",
   "metadata": {},
   "source": [
    "| ------------------ |"
   ]
  },
  {
   "cell_type": "markdown",
   "id": "5abd21c4-4b93-4edf-8bb9-8e9c556ae3f3",
   "metadata": {},
   "source": [
    "| VS Code |"
   ]
  },
  {
   "cell_type": "markdown",
   "id": "88257be8-0783-4a31-b59c-1b4ffc35d92f",
   "metadata": {},
   "source": [
    "| RStudio |"
   ]
  },
  {
   "cell_type": "markdown",
   "id": "71a70f2c-8fb7-4a7a-948d-b16becb7d6eb",
   "metadata": {},
   "source": [
    "| Jupyter Lab |"
   ]
  },
  {
   "cell_type": "markdown",
   "id": "2a4f6c57-49b1-4d38-b488-0dfa3bfc4ee9",
   "metadata": {},
   "source": [
    "### Below are a few examples of evaluating arithmetic expressions in Python"
   ]
  },
  {
   "cell_type": "code",
   "execution_count": null,
   "id": "ebaf473f-12de-4af8-bff0-f88ae873a32c",
   "metadata": {},
   "outputs": [],
   "source": [
    "# This a simple arithmetic expression to mutiply then add integers"
   ]
  },
  {
   "cell_type": "code",
   "execution_count": 1,
   "id": "f8daed1e-fc27-41a4-b637-c295c1d2d22b",
   "metadata": {},
   "outputs": [
    {
     "data": {
      "text/plain": [
       "17"
      ]
     },
     "execution_count": 1,
     "metadata": {},
     "output_type": "execute_result"
    }
   ],
   "source": [
    "(3 * 4) + 5"
   ]
  },
  {
   "cell_type": "code",
   "execution_count": null,
   "id": "ea0e5d57-aef5-48c6-903b-84d5c6916fc2",
   "metadata": {},
   "outputs": [],
   "source": [
    "# This will convert 200 minutes to hours by diving by 60"
   ]
  },
  {
   "cell_type": "code",
   "execution_count": 3,
   "id": "655f352f-da8e-4116-bf0b-094fb814652f",
   "metadata": {},
   "outputs": [
    {
     "data": {
      "text/plain": [
       "3.3333333333333335"
      ]
     },
     "execution_count": 3,
     "metadata": {},
     "output_type": "execute_result"
    }
   ],
   "source": [
    "200 / 60"
   ]
  },
  {
   "cell_type": "markdown",
   "id": "b508693c-e730-49a5-a2bd-1b83dd4d46c5",
   "metadata": {},
   "source": [
    "## Author:"
   ]
  },
  {
   "cell_type": "markdown",
   "id": "3f3d3320-73fc-4ba5-b694-b098d17186b8",
   "metadata": {},
   "source": [
    "Arivukkarasi Kumaran"
   ]
  },
  {
   "cell_type": "code",
   "execution_count": null,
   "id": "9386d43f-362d-44ec-8244-9c7026202ba4",
   "metadata": {},
   "outputs": [],
   "source": []
  }
 ],
 "metadata": {
  "kernelspec": {
   "display_name": "Python 3 (ipykernel)",
   "language": "python",
   "name": "python3"
  },
  "language_info": {
   "codemirror_mode": {
    "name": "ipython",
    "version": 3
   },
   "file_extension": ".py",
   "mimetype": "text/x-python",
   "name": "python",
   "nbconvert_exporter": "python",
   "pygments_lexer": "ipython3",
   "version": "3.13.5"
  }
 },
 "nbformat": 4,
 "nbformat_minor": 5
}
